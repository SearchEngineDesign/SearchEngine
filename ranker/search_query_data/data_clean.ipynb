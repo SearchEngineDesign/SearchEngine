{
 "cells": [
  {
   "cell_type": "code",
   "execution_count": 38,
   "metadata": {},
   "outputs": [],
   "source": [
    "import pandas as pd\n",
    "# from google.cloud import bigquery\n",
    "df = pd.read_csv('trends.csv')\n",
    "df.head()"
   ]
  },
  {
   "cell_type": "code",
   "execution_count": 39,
   "metadata": {},
   "outputs": [],
   "source": [
    "english_speaking_patterns = [\n",
    "            \"United States\",\n",
    "            \"United Kingdom\",\n",
    "            \"Canada\",\n",
    "            \"Australia\",\n",
    "            \"New Zealand\",\n",
    "            \"Ireland\",\n",
    "            \"South Africa\",\n",
    "            \"Singapore\",\n",
    "            \"Jamaica\",\n",
    "            \"Trinidad\", \"Tobago\",\n",
    "            \"Bahamas\",\n",
    "            \"Barbados\",\n",
    "            \"Belize\",\n",
    "            \"Guyana\",\n",
    "            \"Antigua\", \"Barbuda\",\n",
    "            \"Global\" \n",
    "        ]\n",
    "# Create pattern for matching\n",
    "pattern = '|'.join(english_speaking_patterns)\n",
    "        \n",
    "# Filter for English-speaking countries\n",
    "english_speaking_data = df[df['location'].str.contains(pattern, case=False, regex=True, na=False)]\n",
    "\n",
    "combined_data = english_speaking_data.drop_duplicates(subset=['query'])\n",
    "print(len(english_speaking_data), len(combined_data))\n",
    "print(combined_data.head())\n"
   ]
  },
  {
   "cell_type": "code",
   "execution_count": null,
   "metadata": {},
   "outputs": [],
   "source": [
    "qeury_trend_df = combined_data[['query']]\n",
    "print(len(qeury_trend_df))"
   ]
  },
  {
   "cell_type": "code",
   "execution_count": 36,
   "metadata": {},
   "outputs": [],
   "source": [
    "df = pd.read_csv('google_trends_top_rising_terms.csv')"
   ]
  },
  {
   "cell_type": "code",
   "execution_count": 24,
   "metadata": {},
   "outputs": [],
   "source": [
    "df.head()\n",
    "combined_data = df.drop_duplicates(subset=['term'])\n",
    "print(len(df), len(combined_data))\n",
    "csv_filename = \"google_trends_top_rising_terms_cleaned.csv\"\n",
    "combined_data.to_csv(csv_filename, index=False)\n"
   ]
  },
  {
   "cell_type": "code",
   "execution_count": 32,
   "metadata": {},
   "outputs": [],
   "source": [
    "df1 = pd.read_csv(\"google_trends_top_rising_terms_cleaned.csv\")\n",
    "df2 = pd.read_csv('google_trends_top_terms_cleaned.csv')\n",
    "merged_df = pd.concat([df1, df2])\n",
    "merged_df = merged_df.drop_duplicates(subset=['term'])\n",
    "print(len(df1), len(df2), len(merged_df))\n",
    "query_df = merged_df[['term']]\n",
    "print(query_df)"
   ]
  },
  {
   "cell_type": "code",
   "execution_count": null,
   "metadata": {},
   "outputs": [],
   "source": [
    "term_df_renamed = query_df.rename(columns={\"term\": \"query\"})\n",
    "\n",
    "merged_df = pd.concat([qeury_trend_df, term_df_renamed], ignore_index=True)\n",
    "merged_df = merged_df.drop_duplicates(subset=['query'])\n",
    "print(merged_df)\n",
    "\n"
   ]
  },
  {
   "cell_type": "code",
   "execution_count": 61,
   "metadata": {},
   "outputs": [],
   "source": [
    "claude_df = pd.read_csv('search-queries-csv.txt', delimiter='\\t') \n",
    "merged_df = pd.concat([claude_df, merged_df], ignore_index=True)\n",
    "merged_df = merged_df.drop_duplicates(subset=['query'])\n",
    "print(merged_df)\n",
    "merged_df.to_csv(\"search_query.csv\", index=False)"
   ]
  },
  {
   "cell_type": "code",
   "execution_count": null,
   "metadata": {},
   "outputs": [],
   "source": [
    "import requests\n",
    "import json\n",
    "\n",
    "API_KEY = \"kMzcxNE7fJgUC9yQZAnvViRy\"\n",
    "BASE_URL = \"https://www.searchapi.io/api/v1/search\"\n",
    "\n",
    "QUERY = \"nicole hamilton\"\n",
    "RESULTS_PER_PAGE = 100\n",
    "\n",
    "def fetch_searchapi_results(query, results_per_page=50):\n",
    "    \"\"\"\n",
    "    使用 SearchAPI.io 获取 50 条搜索结果\n",
    "    :param query: 搜索关键词\n",
    "    :param results_per_page: 每次请求获取的结果数量\n",
    "    :return: 搜索结果列表\n",
    "    \"\"\"\n",
    "    headers = {\n",
    "        \"Authorization\": f\"Bearer {API_KEY}\"\n",
    "    }\n",
    "    params = {\n",
    "        \"query\": query,\n",
    "        \"num\": results_per_page, \n",
    "        \"start\": 0 \n",
    "    }\n",
    "    \n",
    "    response = requests.get(BASE_URL, headers=headers, params=params)\n",
    "    \n",
    "    if response.status_code == 200:\n",
    "        data = response.json()\n",
    "        return data.get('items', [])\n",
    "    else:\n",
    "        print(f\"Error: {response.status_code}, {response.text}\")\n",
    "        return []\n",
    "\n",
    "results = fetch_searchapi_results(QUERY, RESULTS_PER_PAGE)\n",
    "\n",
    "with open(\"test_results.json\", \"w\", encoding=\"utf-8\") as f:\n",
    "    json.dump(results, f, ensure_ascii=False, indent=4)\n",
    "\n",
    "print(\"Results have been saved to 'search_results.json'.\")\n"
   ]
  }
 ],
 "metadata": {
  "kernelspec": {
   "display_name": "data_query",
   "language": "python",
   "name": "python3"
  },
  "language_info": {
   "codemirror_mode": {
    "name": "ipython",
    "version": 3
   },
   "file_extension": ".py",
   "mimetype": "text/x-python",
   "name": "python",
   "nbconvert_exporter": "python",
   "pygments_lexer": "ipython3",
   "version": "3.13.2"
  }
 },
 "nbformat": 4,
 "nbformat_minor": 2
}
