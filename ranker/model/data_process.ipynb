{
 "cells": [
  {
   "cell_type": "code",
   "execution_count": 28,
   "metadata": {},
   "outputs": [],
   "source": [
    "import json\n",
    "\n",
    "file_name = \"data/filtered_dataset-3.json\"\n",
    "with open(file_name, 'r') as f:\n",
    "   data = json.load(f)"
   ]
  },
  {
   "cell_type": "code",
   "execution_count": 29,
   "metadata": {},
   "outputs": [],
   "source": [
    "dataset = {}\n",
    "\n",
    "for each in data['queries']:\n",
    "   for doc in each['documents']:\n",
    "      doc['features'] = []\n",
    "      doc['features'].append(doc['doc_length'])\n",
    "      doc['features'].extend(doc['num_exact_phrase'])\n",
    "      doc['features'].extend(doc['num_in_order_span'])\n",
    "      doc['features'].extend(doc['num_short_span'])\n",
    "      doc['features'].extend(doc['num_top_span'])\n",
    "      doc['features'].append(doc['num_url_match'])\n",
    "      doc['features'].extend(doc['percent_freq_word'])\n",
    "      doc['features'].append(doc['url_length'])\n",
    "      "
   ]
  },
  {
   "cell_type": "code",
   "execution_count": 30,
   "metadata": {},
   "outputs": [],
   "source": [
    "with open(\"data/data3.json\", 'w') as f:\n",
    "   json.dump(data, f)"
   ]
  },
  {
   "cell_type": "code",
   "execution_count": 6,
   "metadata": {},
   "outputs": [
    {
     "name": "stdout",
     "output_type": "stream",
     "text": [
      "1562\n",
      "2831\n",
      "3879\n"
     ]
    }
   ],
   "source": [
    "import json\n",
    "\n",
    "with open('data/data1.json', 'r') as f1, open('data/data2.json', 'r') as f2, open('data/data3.json', 'r') as f3:\n",
    "   data1 = json.load(f1)\n",
    "   data2 = json.load(f2)\n",
    "   data3 = json.load(f3)\n",
    "\n",
    "\n",
    "data = data1['queries']\n",
    "print(len(data))\n",
    "data.extend(data2['queries'])\n",
    "print(len(data))\n",
    "data.extend(data3['queries'])\n",
    "print(len(data))\n",
    "\n",
    "merged_data = {}\n",
    "merged_data['queries'] = data\n",
    "\n",
    "with open('data/data.json', 'w') as f:\n",
    "   json.dump(merged_data, f)"
   ]
  },
  {
   "cell_type": "code",
   "execution_count": 2,
   "metadata": {},
   "outputs": [],
   "source": [
    "import json\n",
    "with open(\"outputs/evaluation_results_20250427_111555.json\",'r') as f:\n",
    "   data = json.load(f)"
   ]
  },
  {
   "cell_type": "code",
   "execution_count": 4,
   "metadata": {},
   "outputs": [],
   "source": [
    "with open(\"data/test_data.json\",\"r\") as f:\n",
    "   test= json.load(f)"
   ]
  },
  {
   "cell_type": "code",
   "execution_count": 7,
   "metadata": {},
   "outputs": [
    {
     "data": {
      "text/plain": [
       "'Mark Hunt'"
      ]
     },
     "execution_count": 7,
     "metadata": {},
     "output_type": "execute_result"
    }
   ],
   "source": [
    "test[0]['query']"
   ]
  },
  {
   "cell_type": "code",
   "execution_count": 10,
   "metadata": {},
   "outputs": [],
   "source": [
    "for i in range(388):\n",
    "   data[i][\"query\"] = test[i][\"query\"]"
   ]
  },
  {
   "cell_type": "code",
   "execution_count": 12,
   "metadata": {},
   "outputs": [],
   "source": [
    "with open('eval.json', 'w') as f:\n",
    "   json.dump(data, f)"
   ]
  }
 ],
 "metadata": {
  "kernelspec": {
   "display_name": "gpt",
   "language": "python",
   "name": "python3"
  },
  "language_info": {
   "codemirror_mode": {
    "name": "ipython",
    "version": 3
   },
   "file_extension": ".py",
   "mimetype": "text/x-python",
   "name": "python",
   "nbconvert_exporter": "python",
   "pygments_lexer": "ipython3",
   "version": "3.10.14"
  }
 },
 "nbformat": 4,
 "nbformat_minor": 2
}
